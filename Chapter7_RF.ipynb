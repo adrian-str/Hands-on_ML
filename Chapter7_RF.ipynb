{
  "nbformat": 4,
  "nbformat_minor": 0,
  "metadata": {
    "colab": {
      "name": "Chapter7_RF.ipynb",
      "provenance": [],
      "collapsed_sections": [],
      "authorship_tag": "ABX9TyNHRIhx9+G3AnbV9K7kwpx3",
      "include_colab_link": true
    },
    "kernelspec": {
      "name": "python3",
      "display_name": "Python 3"
    },
    "accelerator": "GPU"
  },
  "cells": [
    {
      "cell_type": "markdown",
      "metadata": {
        "id": "view-in-github",
        "colab_type": "text"
      },
      "source": [
        "<a href=\"https://colab.research.google.com/github/adrian-str/Hands-on_ML/blob/main/Chapter7_RF.ipynb\" target=\"_parent\"><img src=\"https://colab.research.google.com/assets/colab-badge.svg\" alt=\"Open In Colab\"/></a>"
      ]
    },
    {
      "cell_type": "markdown",
      "metadata": {
        "id": "WYhwPBUSCVmp"
      },
      "source": [
        "## Load MNIST dataset \r\n",
        "### From Kaggle"
      ]
    },
    {
      "cell_type": "code",
      "metadata": {
        "id": "MhmMn_w3uUGE"
      },
      "source": [
        "import numpy as np\r\n",
        "import pandas as pd\r\n",
        "import sklearn"
      ],
      "execution_count": 1,
      "outputs": []
    },
    {
      "cell_type": "code",
      "metadata": {
        "id": "dOxQ-F4quXy7"
      },
      "source": [
        "train=pd.read_csv(\"train.csv\")\r\n",
        "test=pd.read_csv(\"test.csv\")"
      ],
      "execution_count": 2,
      "outputs": []
    },
    {
      "cell_type": "code",
      "metadata": {
        "id": "K5fyARYav9H4"
      },
      "source": [
        "y_train=train[\"label\"].to_numpy()\r\n",
        "X_train=train.drop(\"label\",axis=1).to_numpy()\r\n",
        "from sklearn.preprocessing import StandardScaler\r\n",
        "scaler=StandardScaler()\r\n",
        "X_train_scaled=scaler.fit_transform(X_train)\r\n",
        "# del train \r\n",
        "# del test"
      ],
      "execution_count": 7,
      "outputs": []
    },
    {
      "cell_type": "code",
      "metadata": {
        "id": "4Ume-CFL13J1"
      },
      "source": [
        "X_train,y_train,X_test,y_test,X_val,y_val=X_train_scaled[:30000],y_train[:30000],X_train_scaled[30000:36000],y_train[30000:36000],X_train_scaled[36000:],y_train[36000:]"
      ],
      "execution_count": 8,
      "outputs": []
    },
    {
      "cell_type": "markdown",
      "metadata": {
        "id": "FuwIzaLNCPcB"
      },
      "source": [
        "## Random Forest & Extra Trees"
      ]
    },
    {
      "cell_type": "code",
      "metadata": {
        "id": "cVDyUK7U19Vz"
      },
      "source": [
        "from sklearn.ensemble import RandomForestClassifier, ExtraTreesClassifier\r\n",
        "from sklearn.svm import SVC\r\n",
        "rf_clf=RandomForestClassifier(random_state=42,n_jobs=-1)\r\n",
        "et_clf=ExtraTreesClassifier(random_state=42,n_jobs=-1)\r\n",
        "svm_clf=SVC(random_state=42,kernel=\"rbf\",probability=True)"
      ],
      "execution_count": 10,
      "outputs": []
    },
    {
      "cell_type": "code",
      "metadata": {
        "colab": {
          "base_uri": "https://localhost:8080/"
        },
        "id": "nb5FKB8W1_Xs",
        "outputId": "6db0ae71-79bb-45d9-f194-443c4a3f7ac9"
      },
      "source": [
        "rf_clf.fit(X_train,y_train)\r\n",
        "et_clf.fit(X_train,y_train)"
      ],
      "execution_count": 11,
      "outputs": [
        {
          "output_type": "execute_result",
          "data": {
            "text/plain": [
              "ExtraTreesClassifier(bootstrap=False, ccp_alpha=0.0, class_weight=None,\n",
              "                     criterion='gini', max_depth=None, max_features='auto',\n",
              "                     max_leaf_nodes=None, max_samples=None,\n",
              "                     min_impurity_decrease=0.0, min_impurity_split=None,\n",
              "                     min_samples_leaf=1, min_samples_split=2,\n",
              "                     min_weight_fraction_leaf=0.0, n_estimators=100, n_jobs=-1,\n",
              "                     oob_score=False, random_state=42, verbose=0,\n",
              "                     warm_start=False)"
            ]
          },
          "metadata": {
            "tags": []
          },
          "execution_count": 11
        }
      ]
    },
    {
      "cell_type": "markdown",
      "metadata": {
        "id": "hpbdsEvVCNWp"
      },
      "source": [
        "## SVM"
      ]
    },
    {
      "cell_type": "code",
      "metadata": {
        "colab": {
          "base_uri": "https://localhost:8080/"
        },
        "id": "fn8CGtP72BgD",
        "outputId": "b545e4fd-7353-4d66-a202-6d421132e394"
      },
      "source": [
        "svm_clf.fit(X_train,y_train)"
      ],
      "execution_count": 12,
      "outputs": [
        {
          "output_type": "execute_result",
          "data": {
            "text/plain": [
              "SVC(C=1.0, break_ties=False, cache_size=200, class_weight=None, coef0=0.0,\n",
              "    decision_function_shape='ovr', degree=3, gamma='scale', kernel='rbf',\n",
              "    max_iter=-1, probability=True, random_state=42, shrinking=True, tol=0.001,\n",
              "    verbose=False)"
            ]
          },
          "metadata": {
            "tags": []
          },
          "execution_count": 12
        }
      ]
    },
    {
      "cell_type": "code",
      "metadata": {
        "colab": {
          "base_uri": "https://localhost:8080/"
        },
        "id": "mSV930-P2Tya",
        "outputId": "183d50bd-e628-4f6c-c9ed-c817edebc8c1"
      },
      "source": [
        "# from sklearn.metrics import accuracy_score\r\n",
        "# y_pred_s=svm_clf.predict(X_val)\r\n",
        "print(\"SVM: \",accuracy_score(y_true=y_val,y_pred=y_pred_s))"
      ],
      "execution_count": 14,
      "outputs": [
        {
          "output_type": "stream",
          "text": [
            "SVM:  0.9571666666666667\n"
          ],
          "name": "stdout"
        }
      ]
    },
    {
      "cell_type": "markdown",
      "metadata": {
        "id": "S2bZTYUGCLDp"
      },
      "source": [
        "## Voting"
      ]
    },
    {
      "cell_type": "code",
      "metadata": {
        "id": "GMHxxZeC2ZER"
      },
      "source": [
        "from sklearn.ensemble import VotingClassifier\r\n",
        "voting_clf_soft=VotingClassifier( estimators=[('svc',svm_clf),('rf',rf_clf),('et',et_clf)],voting='soft',n_jobs=-1)\r\n",
        "voting_clf_hard=VotingClassifier( estimators=[('svc',svm_clf),('rf',rf_clf),('et',et_clf)],voting='hard',n_jobs=-1)"
      ],
      "execution_count": 15,
      "outputs": []
    },
    {
      "cell_type": "code",
      "metadata": {
        "colab": {
          "base_uri": "https://localhost:8080/"
        },
        "id": "0F_pI0TH2Zfq",
        "outputId": "51d3729e-e13e-4052-b881-5f0f7d4dc23d"
      },
      "source": [
        "# voting_clf_soft.fit(X_train,y_train)\r\n",
        "# y_pred_v=voting_clf_soft.predict(X_val)\r\n",
        "print(\"Voting classifier (soft): \",accuracy_score(y_true=y_val,y_pred=y_pred_v))"
      ],
      "execution_count": 17,
      "outputs": [
        {
          "output_type": "stream",
          "text": [
            "Voting classifier (soft):  0.971\n"
          ],
          "name": "stdout"
        }
      ]
    },
    {
      "cell_type": "markdown",
      "metadata": {
        "id": "tcQxeVG4CFzg"
      },
      "source": [
        "## Stacking"
      ]
    },
    {
      "cell_type": "code",
      "metadata": {
        "id": "mfK6BLHQBzI-"
      },
      "source": [
        "y_pred_r=rf_clf.predict(X_val)\r\n",
        "y_pred_e=et_clf.predict(X_val)\r\n",
        "# y_pred_s=svm_clf.predict(X_val)\r\n",
        "Xi=np.c_[y_pred_s,y_pred_r,y_pred_e,y_pred_v]"
      ],
      "execution_count": 18,
      "outputs": []
    },
    {
      "cell_type": "code",
      "metadata": {
        "id": "eNvAN_0f2kGe"
      },
      "source": [
        "y_pred_r=rf_clf.predict(X_test)\r\n",
        "y_pred_e=et_clf.predict(X_test)\r\n",
        "y_pred_s=svm_clf.predict(X_test)\r\n",
        "y_pred_v=voting_clf_soft.predict(X_test)\r\n",
        "Xt=np.c_[y_pred_s,y_pred_r,y_pred_e,y_pred_v]"
      ],
      "execution_count": 20,
      "outputs": []
    },
    {
      "cell_type": "code",
      "metadata": {
        "colab": {
          "base_uri": "https://localhost:8080/"
        },
        "id": "QmrUnI8w2oAt",
        "outputId": "67aa4044-c943-4ef7-f4db-1fae18026351"
      },
      "source": [
        "from sklearn.tree import DecisionTreeClassifier\r\n",
        "dt_clf=DecisionTreeClassifier()\r\n",
        "dt_clf.fit(Xi,y_val)"
      ],
      "execution_count": 19,
      "outputs": [
        {
          "output_type": "execute_result",
          "data": {
            "text/plain": [
              "DecisionTreeClassifier(ccp_alpha=0.0, class_weight=None, criterion='gini',\n",
              "                       max_depth=None, max_features=None, max_leaf_nodes=None,\n",
              "                       min_impurity_decrease=0.0, min_impurity_split=None,\n",
              "                       min_samples_leaf=1, min_samples_split=2,\n",
              "                       min_weight_fraction_leaf=0.0, presort='deprecated',\n",
              "                       random_state=None, splitter='best')"
            ]
          },
          "metadata": {
            "tags": []
          },
          "execution_count": 19
        }
      ]
    },
    {
      "cell_type": "code",
      "metadata": {
        "colab": {
          "base_uri": "https://localhost:8080/"
        },
        "id": "6CUrI5Zx2qQj",
        "outputId": "26f16935-725b-4f1e-9cd0-43cefe83ce3a"
      },
      "source": [
        "y_pred=dt_clf.predict(Xt)\r\n",
        "accuracy_score(y_true=y_test,y_pred=y_pred)"
      ],
      "execution_count": 21,
      "outputs": [
        {
          "output_type": "execute_result",
          "data": {
            "text/plain": [
              "0.9728333333333333"
            ]
          },
          "metadata": {
            "tags": []
          },
          "execution_count": 21
        }
      ]
    }
  ]
}